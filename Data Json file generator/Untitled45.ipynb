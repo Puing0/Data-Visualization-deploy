{
  "nbformat": 4,
  "nbformat_minor": 0,
  "metadata": {
    "colab": {
      "provenance": []
    },
    "kernelspec": {
      "name": "python3",
      "display_name": "Python 3"
    },
    "language_info": {
      "name": "python"
    }
  },
  "cells": [
    {
      "cell_type": "code",
      "execution_count": null,
      "metadata": {
        "id": "mHszDG-l3vAH"
      },
      "outputs": [],
      "source": [
        "from IPython.display import clear_output \n",
        "!pip install ghostscript\n",
        "!pip install camelot-py[cv]\n",
        "!pip install excalibur-py\n",
        "!apt install ghostscript python3-tk\n",
        "clear_output()"
      ]
    },
    {
      "cell_type": "code",
      "source": [
        "import re\n",
        "\n",
        "\n",
        "def extractTDTP(val):\n",
        "  txts = re.split(\"G[0-9]:\",val)\n",
        "  ret = []\n",
        "  for i in range(1,len(txts)):\n",
        "    ext = txts[i].replace(\"\\n\",\" \")\n",
        "    NomModule = ext.split(\") \")[1].split(\",\")[0].replace(\"\\n\",\" \")\n",
        "    SalleModule = ext.split(\") \")[0].split(\"(\")[1]\n",
        "    NomProfModule = ext.split(\",\")[-1].replace(\"\\n\",\" \")\n",
        "    grp = re.findall(\"G[0-9]\",val)\n",
        "\n",
        "    toAdd = \"TD\"\n",
        "    if \"TP\" in val:\n",
        "      toAdd = \"TP\"\n",
        "\n",
        "    ret.append([NomModule,SalleModule,NomProfModule,grp[i-1],toAdd])\n",
        "\n",
        "  return ret\n",
        "\n",
        "def extractCour(val):\n",
        "  v = re.split(\"cours.+\\(.+\\)\",val)\n",
        "\n",
        "  NomModule = v[0].replace(\"\\n\",\" \")\n",
        "  SalleModule = re.search(\"\\(.+\\)\",val).group(0)\n",
        "  NomProfModule = v[1].replace(\"\\n\",\" \")\n",
        "  \n",
        "  return [[NomModule,SalleModule,NomProfModule]]\n",
        "def detect(val):\n",
        "  if (\"cours\" in val):\n",
        "    return 0\n",
        "  else :\n",
        "    if (val == \"\"):\n",
        "      return 2\n",
        "    else:\n",
        "      return 1\n",
        "\n",
        "def getEDT (data):\n",
        "  edt = []\n",
        "  for i in range(1,len(data)):\n",
        "    for j in range(1,len(data[i])):\n",
        "      rType = detect(data[i][j])\n",
        "      if(rType == 0):\n",
        "        edt.append([data[i][0],data[0][j].replace('\\n',' ') , extractCour(data[i][j])])\n",
        "      else:\n",
        "        if(rType == 1):\n",
        "          edt.append([data[i][0],data[0][j].replace('\\n',' ') , extractTDTP(data[i][j])])\n",
        "        else:\n",
        "          edt.append([data[i][0],data[0][j].replace('\\n',' ') , [[]]])\n",
        "  return edt\n",
        "\n",
        "def formating(s):\n",
        "  res = \"\"\n",
        "  b = False\n",
        "  i = 0\n",
        "  while i < len(s):\n",
        "    if s[i] == \" \":\n",
        "      if b :\n",
        "        res = res + \" \"\n",
        "        b = False\n",
        "      i = i + 1\n",
        "    else:\n",
        "      b = True\n",
        "      res = res + s[i]\n",
        "      i = i + 1\n",
        "\n",
        "  if res == \"\":\n",
        "    return \"\"\n",
        "  if(res[-1] == \" \"):\n",
        "    return res[0:-1]\n",
        "  return res\n",
        "\n",
        "def cleanEDT(edt):\n",
        "  for i in range(len(edt)):\n",
        "    for j in range(len(edt[i][2])):\n",
        "      for k in range(len(edt[i][2][j])):\n",
        "        edt[i][2][j][k] = formating(edt[i][2][j][k])\n",
        "    return edt"
      ],
      "metadata": {
        "id": "TbVIk_yG8_bt"
      },
      "execution_count": null,
      "outputs": []
    },
    {
      "cell_type": "code",
      "source": [
        "import json\n",
        "\n",
        "def getJson(F,G,S,edt):\n",
        "  Dict = {\n",
        "    'Filere': F,\n",
        "    'Grade': G,\n",
        "    'Section' : S,\n",
        "    'Jour' : {\n",
        "        \"Sam\" : {},\n",
        "        \"Dim\" : {},\n",
        "        \"Lun\" : {},\n",
        "        \"Mar\" : {},\n",
        "        \"Mer\" : {},\n",
        "        \"Jeu\" : {}\n",
        "    }\n",
        "  }\n",
        "\n",
        "  for i in range(len(edt)):\n",
        "    l1 = []\n",
        "    for j in range(len(edt[i][2])):\n",
        "      d = {}\n",
        "      if edt[i][2][j] != []:\n",
        "        d.update({\"Module\":\"\"+edt[i][2][j][0]})\n",
        "        d.update({\"Salle\":\"\"+edt[i][2][j][1]})\n",
        "        d.update({\"Prof\":\"\"+edt[i][2][j][2]})\n",
        "        if (len(edt[i][2][j]) == 5):\n",
        "          d.update({\"Groupe\":\"\"+edt[i][2][j][3]})\n",
        "          d.update({\"Type\":\"\"+edt[i][2][j][4]})\n",
        "          \n",
        "        l1.append(d)\n",
        "    if l1 == []:\n",
        "      l1 = None\n",
        "    Dict[\"Jour\"][edt[i][0]].update({\"\"+edt[i][1]: l1})\n",
        "\n",
        "  return Dict\n",
        "\n",
        "def correct(dt):\n",
        "  days = [\"Sam\",\"Dim\",\"Lun\",\"Mar\",\"Mer\",\"Jeu\"]\n",
        "  for i in range(1,7):\n",
        "    dt.df[0][i] = days[i-1]\n",
        "\n",
        "  for i in range(1,7):\n",
        "    for d in days:\n",
        "      if d in dt.df[1][i]:\n",
        "        dt.df[1][i] = dt.df[1][i].replace(d,\"\")"
      ],
      "metadata": {
        "id": "GeXN8EihMLFu"
      },
      "execution_count": null,
      "outputs": []
    },
    {
      "cell_type": "code",
      "source": [
        "import camelot\n",
        "\n",
        "all = []"
      ],
      "metadata": {
        "id": "Roc3PLDW43kz"
      },
      "execution_count": null,
      "outputs": []
    },
    {
      "cell_type": "code",
      "source": [
        "file = \"/content/edt/L2-L3-ACAD-1.pdf\"\n",
        "tables = camelot.read_pdf(file, pages='1-end')\n",
        "\n",
        "correct(tables[0])\n",
        "correct(tables[1])\n",
        "correct(tables[2])\n",
        "correct(tables[3])\n",
        "correct(tables[4])\n",
        "correct(tables[5])\n",
        "\n",
        "all.append(getJson(\"ACAD\",\"L2\",\"A\",cleanEDT(getEDT(tables[0].df.T))))\n",
        "all.append(getJson(\"ACAD\",\"L2\",\"B\",cleanEDT(getEDT(tables[1].df.T))))\n",
        "all.append(getJson(\"ACAD\",\"L2\",\"C\",cleanEDT(getEDT(tables[2].df.T))))\n",
        "all.append(getJson(\"ACAD\",\"L3\",\"A\",cleanEDT(getEDT(tables[3].df.T))))\n",
        "all.append(getJson(\"ACAD\",\"L3\",\"B\",cleanEDT(getEDT(tables[4].df.T))))\n",
        "all.append(getJson(\"ACAD\",\"L3\",\"C\",cleanEDT(getEDT(tables[5].df.T))))\n",
        "\n",
        "print(len(all))"
      ],
      "metadata": {
        "colab": {
          "base_uri": "https://localhost:8080/"
        },
        "id": "NmQ69ERfgsmE",
        "outputId": "2fd9303d-e239-4c1d-9078-390df9ecff06"
      },
      "execution_count": null,
      "outputs": [
        {
          "output_type": "stream",
          "name": "stdout",
          "text": [
            "6\n"
          ]
        },
        {
          "output_type": "stream",
          "name": "stderr",
          "text": [
            "/usr/local/lib/python3.8/dist-packages/camelot/parsers/lattice.py:416: UserWarning: No tables found on page-7\n",
            "  warnings.warn(\n"
          ]
        }
      ]
    },
    {
      "cell_type": "code",
      "source": [
        "file = \"/content/edt/L2-L3-GTR-1.pdf\"\n",
        "tables = camelot.read_pdf(file, pages='1-end')\n",
        "\n",
        "correct(tables[0])\n",
        "correct(tables[1])\n",
        "\n",
        "all.append(getJson(\"GTR\",\"L3\",\"A\",cleanEDT(getEDT(tables[0].df.T))))\n",
        "all.append(getJson(\"GTR\",\"L2\",\"A\",cleanEDT(getEDT(tables[1].df.T))))\n",
        "print(len(all))"
      ],
      "metadata": {
        "colab": {
          "base_uri": "https://localhost:8080/"
        },
        "id": "LVg-Kr03g3pQ",
        "outputId": "72e5a279-e521-47d5-b4c0-88209a1bbdec"
      },
      "execution_count": null,
      "outputs": [
        {
          "output_type": "stream",
          "name": "stdout",
          "text": [
            "8\n"
          ]
        },
        {
          "output_type": "stream",
          "name": "stderr",
          "text": [
            "/usr/local/lib/python3.8/dist-packages/camelot/parsers/lattice.py:416: UserWarning: No tables found on page-3\n",
            "  warnings.warn(\n"
          ]
        }
      ]
    },
    {
      "cell_type": "code",
      "source": [
        "file = \"/content/edt/L2-L3-ISIL-1.pdf\"\n",
        "tables = camelot.read_pdf(file, pages='1-end')\n",
        "\n",
        "correct(tables[0])\n",
        "correct(tables[1])\n",
        "correct(tables[2])\n",
        "correct(tables[3])\n",
        "\n",
        "all.append(getJson(\"ISIL\",\"L2\",\"A\",cleanEDT(getEDT(tables[0].df.T))))\n",
        "all.append(getJson(\"ISIL\",\"L2\",\"B\",cleanEDT(getEDT(tables[1].df.T))))\n",
        "all.append(getJson(\"ISIL\",\"L3\",\"A\",cleanEDT(getEDT(tables[2].df.T))))\n",
        "all.append(getJson(\"ISIL\",\"L3\",\"B\",cleanEDT(getEDT(tables[3].df.T))))\n",
        "print(len(all))"
      ],
      "metadata": {
        "colab": {
          "base_uri": "https://localhost:8080/"
        },
        "id": "F_b0GJVYgwC5",
        "outputId": "8f90c78d-3307-4d51-a725-e3ce332653fc"
      },
      "execution_count": null,
      "outputs": [
        {
          "output_type": "stream",
          "name": "stdout",
          "text": [
            "12\n"
          ]
        },
        {
          "output_type": "stream",
          "name": "stderr",
          "text": [
            "/usr/local/lib/python3.8/dist-packages/camelot/parsers/lattice.py:416: UserWarning: No tables found on page-5\n",
            "  warnings.warn(\n"
          ]
        }
      ]
    },
    {
      "cell_type": "code",
      "source": [
        "file = \"/content/edt/M1-HPC-1.pdf\"\n",
        "tables = camelot.read_pdf(file, pages='1-end')\n",
        "\n",
        "correct(tables[0])\n",
        "\n",
        "all.append(getJson(\"HPC\",\"M1\",\"A\",cleanEDT(getEDT(tables[0].df.T))))\n",
        "print(len(all))"
      ],
      "metadata": {
        "colab": {
          "base_uri": "https://localhost:8080/"
        },
        "id": "p3a0INOwhg7R",
        "outputId": "7b3af64b-6a26-4e3e-cece-87c93ec448e9"
      },
      "execution_count": null,
      "outputs": [
        {
          "output_type": "stream",
          "name": "stdout",
          "text": [
            "13\n"
          ]
        },
        {
          "output_type": "stream",
          "name": "stderr",
          "text": [
            "/usr/local/lib/python3.8/dist-packages/camelot/parsers/lattice.py:416: UserWarning: No tables found on page-2\n",
            "  warnings.warn(\n"
          ]
        }
      ]
    },
    {
      "cell_type": "code",
      "source": [
        "file = \"/content/edt/M1-M2-BIGDATA-1.pdf\"\n",
        "tables = camelot.read_pdf(file, pages='1-end')\n",
        "\n",
        "correct(tables[0])\n",
        "correct(tables[1])\n",
        "\n",
        "all.append(getJson(\"BIGDATA\",\"M1\",\"A\",cleanEDT(getEDT(tables[0].df.T))))\n",
        "all.append(getJson(\"BIGDATA\",\"M2\",\"A\",cleanEDT(getEDT(tables[1].df.T))))\n",
        "\n",
        "print(len(all))"
      ],
      "metadata": {
        "colab": {
          "base_uri": "https://localhost:8080/"
        },
        "id": "Kxs5qM0vhzdD",
        "outputId": "b7a1fe8a-86b0-4c60-e7e5-b01ef20393f6"
      },
      "execution_count": null,
      "outputs": [
        {
          "output_type": "stream",
          "name": "stdout",
          "text": [
            "15\n"
          ]
        },
        {
          "output_type": "stream",
          "name": "stderr",
          "text": [
            "/usr/local/lib/python3.8/dist-packages/camelot/parsers/lattice.py:416: UserWarning: No tables found on page-3\n",
            "  warnings.warn(\n"
          ]
        }
      ]
    },
    {
      "cell_type": "code",
      "source": [
        "file = \"/content/edt/M1-M2-BIOINFO-1.pdf\"\n",
        "tables = camelot.read_pdf(file, pages='1-end')\n",
        "\n",
        "correct(tables[0])\n",
        "correct(tables[1])\n",
        "\n",
        "all.append(getJson(\"BIOINFO\",\"M1\",\"A\",cleanEDT(getEDT(tables[0].df.T))))\n",
        "all.append(getJson(\"BIOINFO\",\"M2\",\"A\",cleanEDT(getEDT(tables[1].df.T))))\n",
        "\n",
        "print(len(all))"
      ],
      "metadata": {
        "colab": {
          "base_uri": "https://localhost:8080/"
        },
        "id": "dF4Zv0f8iCAL",
        "outputId": "ef0ce3e3-301a-4659-d0d4-8aad0bd486e6"
      },
      "execution_count": null,
      "outputs": [
        {
          "output_type": "stream",
          "name": "stdout",
          "text": [
            "17\n"
          ]
        },
        {
          "output_type": "stream",
          "name": "stderr",
          "text": [
            "/usr/local/lib/python3.8/dist-packages/camelot/parsers/lattice.py:416: UserWarning: No tables found on page-3\n",
            "  warnings.warn(\n"
          ]
        }
      ]
    },
    {
      "cell_type": "code",
      "source": [
        "file = \"/content/edt/M1-M2-IL-1.pdf\"\n",
        "tables = camelot.read_pdf(file, pages='1-end')\n",
        "\n",
        "correct(tables[0])\n",
        "correct(tables[1])\n",
        "\n",
        "all.append(getJson(\"IL\",\"M2\",\"A\",cleanEDT(getEDT(tables[0].df.T))))\n",
        "all.append(getJson(\"IL\",\"M1\",\"A\",cleanEDT(getEDT(tables[1].df.T))))\n",
        "\n",
        "print(len(all))"
      ],
      "metadata": {
        "colab": {
          "base_uri": "https://localhost:8080/"
        },
        "id": "tvtSH66niLpS",
        "outputId": "c8fa16a2-42f6-4d60-84b9-21ae213bf63c"
      },
      "execution_count": null,
      "outputs": [
        {
          "output_type": "stream",
          "name": "stdout",
          "text": [
            "19\n"
          ]
        },
        {
          "output_type": "stream",
          "name": "stderr",
          "text": [
            "/usr/local/lib/python3.8/dist-packages/camelot/parsers/lattice.py:416: UserWarning: No tables found on page-3\n",
            "  warnings.warn(\n"
          ]
        }
      ]
    },
    {
      "cell_type": "code",
      "source": [
        "file = \"/content/edt/M1-M2-MIV-1.pdf\"\n",
        "tables = camelot.read_pdf(file, pages='1-end')\n",
        "\n",
        "correct(tables[0])\n",
        "correct(tables[1])\n",
        "\n",
        "all.append(getJson(\"IV\",\"M2\",\"A\",cleanEDT(getEDT(tables[0].df.T))))\n",
        "all.append(getJson(\"IV\",\"M1\",\"A\",cleanEDT(getEDT(tables[1].df.T))))\n",
        "\n",
        "print(len(all))"
      ],
      "metadata": {
        "colab": {
          "base_uri": "https://localhost:8080/"
        },
        "id": "oiCgk9BRiWXK",
        "outputId": "82fed2df-cf21-4ed6-c309-b91551d5c560"
      },
      "execution_count": null,
      "outputs": [
        {
          "output_type": "stream",
          "name": "stdout",
          "text": [
            "21\n"
          ]
        },
        {
          "output_type": "stream",
          "name": "stderr",
          "text": [
            "/usr/local/lib/python3.8/dist-packages/camelot/parsers/lattice.py:416: UserWarning: No tables found on page-3\n",
            "  warnings.warn(\n"
          ]
        }
      ]
    },
    {
      "cell_type": "code",
      "source": [
        "file = \"/content/edt/M1-M2-RSD-1.pdf\"\n",
        "tables = camelot.read_pdf(file, pages='1-end')\n",
        "\n",
        "correct(tables[0])\n",
        "correct(tables[1])\n",
        "\n",
        "all.append(getJson(\"RSD\",\"M1\",\"A\",cleanEDT(getEDT(tables[0].df.T))))\n",
        "all.append(getJson(\"RSD\",\"M2\",\"A\",cleanEDT(getEDT(tables[1].df.T))))\n",
        "\n",
        "print(len(all))"
      ],
      "metadata": {
        "colab": {
          "base_uri": "https://localhost:8080/"
        },
        "id": "-X9QcRYkifdQ",
        "outputId": "630a6db3-e7ca-449a-aebf-204dcc831481"
      },
      "execution_count": null,
      "outputs": [
        {
          "output_type": "stream",
          "name": "stdout",
          "text": [
            "23\n"
          ]
        },
        {
          "output_type": "stream",
          "name": "stderr",
          "text": [
            "/usr/local/lib/python3.8/dist-packages/camelot/parsers/lattice.py:416: UserWarning: No tables found on page-3\n",
            "  warnings.warn(\n"
          ]
        }
      ]
    },
    {
      "cell_type": "code",
      "source": [
        "file = \"/content/edt/M1-M2-SII-1.pdf\"\n",
        "tables = camelot.read_pdf(file, pages='1-end')\n",
        "\n",
        "correct(tables[0])\n",
        "correct(tables[1])\n",
        "\n",
        "all.append(getJson(\"SII\",\"M1\",\"A\",cleanEDT(getEDT(tables[0].df.T))))\n",
        "all.append(getJson(\"SII\",\"M2\",\"A\",cleanEDT(getEDT(tables[1].df.T))))\n",
        "\n",
        "print(len(all))"
      ],
      "metadata": {
        "colab": {
          "base_uri": "https://localhost:8080/"
        },
        "id": "1mk2xdWNipGM",
        "outputId": "731089c3-18a0-49b8-fc9f-d668690ce86b"
      },
      "execution_count": null,
      "outputs": [
        {
          "output_type": "stream",
          "name": "stdout",
          "text": [
            "25\n"
          ]
        },
        {
          "output_type": "stream",
          "name": "stderr",
          "text": [
            "/usr/local/lib/python3.8/dist-packages/camelot/parsers/lattice.py:416: UserWarning: No tables found on page-3\n",
            "  warnings.warn(\n"
          ]
        }
      ]
    },
    {
      "cell_type": "code",
      "source": [
        "file = \"/content/edt/M1-M2-SSI-1.pdf\"\n",
        "tables = camelot.read_pdf(file, pages='1-end')\n",
        "\n",
        "correct(tables[0])\n",
        "correct(tables[1])\n",
        "\n",
        "all.append(getJson(\"SSI\",\"M1\",\"A\",cleanEDT(getEDT(tables[0].df.T))))\n",
        "all.append(getJson(\"SSI\",\"M2\",\"A\",cleanEDT(getEDT(tables[1].df.T))))\n",
        "\n",
        "print(len(all))"
      ],
      "metadata": {
        "colab": {
          "base_uri": "https://localhost:8080/"
        },
        "id": "9GzLvj-EiyDF",
        "outputId": "065cceb2-e472-4ed0-c401-910f3df517be"
      },
      "execution_count": null,
      "outputs": [
        {
          "output_type": "stream",
          "name": "stdout",
          "text": [
            "27\n"
          ]
        },
        {
          "output_type": "stream",
          "name": "stderr",
          "text": [
            "/usr/local/lib/python3.8/dist-packages/camelot/parsers/lattice.py:416: UserWarning: No tables found on page-3\n",
            "  warnings.warn(\n"
          ]
        }
      ]
    },
    {
      "cell_type": "code",
      "source": [
        "with open(\"sample.json\", \"w\") as outfile:\n",
        "    json.dump(all, outfile)"
      ],
      "metadata": {
        "id": "CjbKE5eLeXXQ"
      },
      "execution_count": null,
      "outputs": []
    }
  ]
}